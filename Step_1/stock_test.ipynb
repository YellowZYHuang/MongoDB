{
 "cells": [
  {
   "cell_type": "code",
   "execution_count": 1,
   "metadata": {},
   "outputs": [],
   "source": [
    "import requests_html\n",
    "import pandas as pd\n",
    "import pymongo"
   ]
  },
  {
   "cell_type": "code",
   "execution_count": 2,
   "metadata": {},
   "outputs": [],
   "source": [
    "session = requests_html.HTMLSession()"
   ]
  },
  {
   "cell_type": "code",
   "execution_count": 3,
   "metadata": {},
   "outputs": [],
   "source": [
    "response = session.get('http://www.twse.com.tw/exchangeReport/MI_INDEX?response=json&date=20181029&type=ALL')"
   ]
  },
  {
   "cell_type": "code",
   "execution_count": 4,
   "metadata": {},
   "outputs": [],
   "source": [
    "json = response.json()"
   ]
  },
  {
   "cell_type": "code",
   "execution_count": 5,
   "metadata": {},
   "outputs": [
    {
     "data": {
      "text/html": [
       "<div>\n",
       "<style scoped>\n",
       "    .dataframe tbody tr th:only-of-type {\n",
       "        vertical-align: middle;\n",
       "    }\n",
       "\n",
       "    .dataframe tbody tr th {\n",
       "        vertical-align: top;\n",
       "    }\n",
       "\n",
       "    .dataframe thead th {\n",
       "        text-align: right;\n",
       "    }\n",
       "</style>\n",
       "<table border=\"1\" class=\"dataframe\">\n",
       "  <thead>\n",
       "    <tr style=\"text-align: right;\">\n",
       "      <th></th>\n",
       "      <th>證券代號</th>\n",
       "      <th>證券名稱</th>\n",
       "      <th>成交股數</th>\n",
       "      <th>成交筆數</th>\n",
       "      <th>成交金額</th>\n",
       "      <th>開盤價</th>\n",
       "      <th>最高價</th>\n",
       "      <th>最低價</th>\n",
       "      <th>收盤價</th>\n",
       "      <th>漲跌(+/-)</th>\n",
       "      <th>漲跌價差</th>\n",
       "      <th>最後揭示買價</th>\n",
       "      <th>最後揭示買量</th>\n",
       "      <th>最後揭示賣價</th>\n",
       "      <th>最後揭示賣量</th>\n",
       "      <th>本益比</th>\n",
       "    </tr>\n",
       "  </thead>\n",
       "  <tbody>\n",
       "    <tr>\n",
       "      <th>0</th>\n",
       "      <td>0050</td>\n",
       "      <td>元大台灣50</td>\n",
       "      <td>9,883,260</td>\n",
       "      <td>3,121</td>\n",
       "      <td>747,884,213</td>\n",
       "      <td>75.85</td>\n",
       "      <td>76.10</td>\n",
       "      <td>75.35</td>\n",
       "      <td>75.75</td>\n",
       "      <td>&lt;p style= color:red&gt;+&lt;/p&gt;</td>\n",
       "      <td>0.35</td>\n",
       "      <td>75.75</td>\n",
       "      <td>12</td>\n",
       "      <td>75.80</td>\n",
       "      <td>269</td>\n",
       "      <td>0.00</td>\n",
       "    </tr>\n",
       "    <tr>\n",
       "      <th>1</th>\n",
       "      <td>0051</td>\n",
       "      <td>元大中型100</td>\n",
       "      <td>22,300</td>\n",
       "      <td>17</td>\n",
       "      <td>627,827</td>\n",
       "      <td>28.20</td>\n",
       "      <td>28.24</td>\n",
       "      <td>28.06</td>\n",
       "      <td>28.20</td>\n",
       "      <td>&lt;p style= color:red&gt;+&lt;/p&gt;</td>\n",
       "      <td>0.03</td>\n",
       "      <td>28.07</td>\n",
       "      <td>1</td>\n",
       "      <td>28.20</td>\n",
       "      <td>17</td>\n",
       "      <td>0.00</td>\n",
       "    </tr>\n",
       "    <tr>\n",
       "      <th>2</th>\n",
       "      <td>0052</td>\n",
       "      <td>富邦科技</td>\n",
       "      <td>105,000</td>\n",
       "      <td>14</td>\n",
       "      <td>5,013,650</td>\n",
       "      <td>47.64</td>\n",
       "      <td>47.77</td>\n",
       "      <td>47.32</td>\n",
       "      <td>47.50</td>\n",
       "      <td>&lt;p style= color:red&gt;+&lt;/p&gt;</td>\n",
       "      <td>0.18</td>\n",
       "      <td>47.40</td>\n",
       "      <td>5</td>\n",
       "      <td>47.50</td>\n",
       "      <td>2</td>\n",
       "      <td>0.00</td>\n",
       "    </tr>\n",
       "    <tr>\n",
       "      <th>3</th>\n",
       "      <td>0053</td>\n",
       "      <td>元大電子</td>\n",
       "      <td>19,000</td>\n",
       "      <td>11</td>\n",
       "      <td>584,020</td>\n",
       "      <td>30.90</td>\n",
       "      <td>30.90</td>\n",
       "      <td>30.64</td>\n",
       "      <td>30.86</td>\n",
       "      <td>&lt;p style= color:green&gt;-&lt;/p&gt;</td>\n",
       "      <td>0.03</td>\n",
       "      <td>30.81</td>\n",
       "      <td>20</td>\n",
       "      <td>31.03</td>\n",
       "      <td>20</td>\n",
       "      <td>0.00</td>\n",
       "    </tr>\n",
       "    <tr>\n",
       "      <th>4</th>\n",
       "      <td>0054</td>\n",
       "      <td>元大台商50</td>\n",
       "      <td>5,000</td>\n",
       "      <td>5</td>\n",
       "      <td>101,940</td>\n",
       "      <td>20.39</td>\n",
       "      <td>20.45</td>\n",
       "      <td>20.35</td>\n",
       "      <td>20.45</td>\n",
       "      <td>&lt;p style= color:red&gt;+&lt;/p&gt;</td>\n",
       "      <td>0.28</td>\n",
       "      <td>20.27</td>\n",
       "      <td>20</td>\n",
       "      <td>20.43</td>\n",
       "      <td>20</td>\n",
       "      <td>0.00</td>\n",
       "    </tr>\n",
       "  </tbody>\n",
       "</table>\n",
       "</div>"
      ],
      "text/plain": [
       "   證券代號     證券名稱       成交股數   成交筆數         成交金額    開盤價    最高價    最低價    收盤價  \\\n",
       "0  0050   元大台灣50  9,883,260  3,121  747,884,213  75.85  76.10  75.35  75.75   \n",
       "1  0051  元大中型100     22,300     17      627,827  28.20  28.24  28.06  28.20   \n",
       "2  0052     富邦科技    105,000     14    5,013,650  47.64  47.77  47.32  47.50   \n",
       "3  0053     元大電子     19,000     11      584,020  30.90  30.90  30.64  30.86   \n",
       "4  0054   元大台商50      5,000      5      101,940  20.39  20.45  20.35  20.45   \n",
       "\n",
       "                       漲跌(+/-)  漲跌價差 最後揭示買價 最後揭示買量 最後揭示賣價 最後揭示賣量   本益比  \n",
       "0    <p style= color:red>+</p>  0.35  75.75     12  75.80    269  0.00  \n",
       "1    <p style= color:red>+</p>  0.03  28.07      1  28.20     17  0.00  \n",
       "2    <p style= color:red>+</p>  0.18  47.40      5  47.50      2  0.00  \n",
       "3  <p style= color:green>-</p>  0.03  30.81     20  31.03     20  0.00  \n",
       "4    <p style= color:red>+</p>  0.28  20.27     20  20.43     20  0.00  "
      ]
     },
     "execution_count": 5,
     "metadata": {},
     "output_type": "execute_result"
    }
   ],
   "source": [
    "df = pd.DataFrame(columns=json['fields5'], data=json['data5'])\n",
    "df.head(5)"
   ]
  },
  {
   "cell_type": "code",
   "execution_count": 6,
   "metadata": {},
   "outputs": [],
   "source": [
    "dic = df.to_dict('records')"
   ]
  },
  {
   "cell_type": "code",
   "execution_count": 7,
   "metadata": {},
   "outputs": [
    {
     "data": {
      "text/plain": [
       "Collection(Database(MongoClient(host=['localhost:27017'], document_class=dict, tz_aware=False, connect=True), 'testdb_py'), 'testdb_stock')"
      ]
     },
     "execution_count": 7,
     "metadata": {},
     "output_type": "execute_result"
    }
   ],
   "source": [
    "client = pymongo.MongoClient('localhost', 27017)\n",
    "db = client['testdb_py']\n",
    "collection = db['testdb_stock']\n",
    "collection"
   ]
  },
  {
   "cell_type": "code",
   "execution_count": 8,
   "metadata": {},
   "outputs": [
    {
     "data": {
      "text/plain": [
       "<pymongo.results.InsertManyResult at 0xc03d908>"
      ]
     },
     "execution_count": 8,
     "metadata": {},
     "output_type": "execute_result"
    }
   ],
   "source": [
    "collection.insert_many(dic)"
   ]
  },
  {
   "cell_type": "code",
   "execution_count": null,
   "metadata": {},
   "outputs": [],
   "source": []
  }
 ],
 "metadata": {
  "kernelspec": {
   "display_name": "Python 3",
   "language": "python",
   "name": "python3"
  },
  "language_info": {
   "codemirror_mode": {
    "name": "ipython",
    "version": 3
   },
   "file_extension": ".py",
   "mimetype": "text/x-python",
   "name": "python",
   "nbconvert_exporter": "python",
   "pygments_lexer": "ipython3",
   "version": "3.6.5"
  }
 },
 "nbformat": 4,
 "nbformat_minor": 2
}
